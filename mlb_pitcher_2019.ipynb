{
 "cells": [
  {
   "cell_type": "code",
   "execution_count": 1,
   "id": "6b8228e5-5211-4896-ae1f-1b5d6d0ea50c",
   "metadata": {},
   "outputs": [
    {
     "name": "stdout",
     "output_type": "stream",
     "text": [
      "Intel MKL WARNING: Support of Intel(R) Streaming SIMD Extensions 4.2 (Intel(R) SSE4.2) enabled only processors has been deprecated. Intel oneAPI Math Kernel Library 2025.0 will require Intel(R) Advanced Vector Extensions (Intel(R) AVX) instructions.\n",
      "Intel MKL WARNING: Support of Intel(R) Streaming SIMD Extensions 4.2 (Intel(R) SSE4.2) enabled only processors has been deprecated. Intel oneAPI Math Kernel Library 2025.0 will require Intel(R) Advanced Vector Extensions (Intel(R) AVX) instructions.\n"
     ]
    }
   ],
   "source": [
    "import pandas as pd \n",
    "import numpy as np \n",
    "import matplotlib.pyplot as plt \n",
    "import seaborn as sns \n",
    "from scipy import stats"
   ]
  },
  {
   "cell_type": "code",
   "execution_count": 2,
   "id": "0f574d39-396d-42ad-b0b8-0118ee82628e",
   "metadata": {},
   "outputs": [],
   "source": [
    "# read files \n",
    "df_atbats = pd.read_csv('data/2019_atbats.csv')\n",
    "df_games = pd.read_csv('data/2019_games.csv')\n",
    "df_pitches = pd.read_csv('data/2019_pitches.csv')\n",
    "df_players = pd.read_csv('data/player_names.csv')"
   ]
  },
  {
   "cell_type": "code",
   "execution_count": 3,
   "id": "e657f24a-0370-4f4c-ae8f-44b631bca69f",
   "metadata": {},
   "outputs": [],
   "source": [
    "# make sure that all players' ids are included in df_players \n",
    "pitcher_ids = df_atbats['pitcher_id'].unique()\n",
    "batter_ids = df_atbats['batter_id'].unique()\n",
    "\n",
    "for i,n in enumerate(pitcher_ids):\n",
    "    if i not in df_players['id']:\n",
    "        print(f'{n} is not inside df_players')\n",
    "        \n",
    "for i,n in enumerate(batter_ids):\n",
    "    if i not in df_players['id']:\n",
    "        print(f'{n} is not inside df_players')"
   ]
  },
  {
   "cell_type": "code",
   "execution_count": 4,
   "id": "00beaa54-96e1-4a1e-9ece-0fbed0923aa9",
   "metadata": {},
   "outputs": [
    {
     "data": {
      "text/html": [
       "<div>\n",
       "<style scoped>\n",
       "    .dataframe tbody tr th:only-of-type {\n",
       "        vertical-align: middle;\n",
       "    }\n",
       "\n",
       "    .dataframe tbody tr th {\n",
       "        vertical-align: top;\n",
       "    }\n",
       "\n",
       "    .dataframe thead th {\n",
       "        text-align: right;\n",
       "    }\n",
       "</style>\n",
       "<table border=\"1\" class=\"dataframe\">\n",
       "  <thead>\n",
       "    <tr style=\"text-align: right;\">\n",
       "      <th></th>\n",
       "      <th>ab_id</th>\n",
       "      <th>pitcher_id</th>\n",
       "      <th>batter_id</th>\n",
       "    </tr>\n",
       "  </thead>\n",
       "  <tbody>\n",
       "    <tr>\n",
       "      <th>0</th>\n",
       "      <td>2.019000e+09</td>\n",
       "      <td>571666</td>\n",
       "      <td>594777</td>\n",
       "    </tr>\n",
       "    <tr>\n",
       "      <th>1</th>\n",
       "      <td>2.019000e+09</td>\n",
       "      <td>571666</td>\n",
       "      <td>545361</td>\n",
       "    </tr>\n",
       "    <tr>\n",
       "      <th>2</th>\n",
       "      <td>2.019000e+09</td>\n",
       "      <td>571666</td>\n",
       "      <td>571506</td>\n",
       "    </tr>\n",
       "    <tr>\n",
       "      <th>3</th>\n",
       "      <td>2.019000e+09</td>\n",
       "      <td>502239</td>\n",
       "      <td>543257</td>\n",
       "    </tr>\n",
       "    <tr>\n",
       "      <th>4</th>\n",
       "      <td>2.019000e+09</td>\n",
       "      <td>502239</td>\n",
       "      <td>656305</td>\n",
       "    </tr>\n",
       "  </tbody>\n",
       "</table>\n",
       "</div>"
      ],
      "text/plain": [
       "          ab_id  pitcher_id  batter_id\n",
       "0  2.019000e+09      571666     594777\n",
       "1  2.019000e+09      571666     545361\n",
       "2  2.019000e+09      571666     571506\n",
       "3  2.019000e+09      502239     543257\n",
       "4  2.019000e+09      502239     656305"
      ]
     },
     "execution_count": 4,
     "metadata": {},
     "output_type": "execute_result"
    }
   ],
   "source": [
    "# extract pitcher_id, batter_id and ab_id (at bat id) from df_atbats\n",
    "df_atbats_extract = df_atbats[['ab_id','pitcher_id','batter_id']]\n",
    "df_atbats_extract.head()"
   ]
  },
  {
   "cell_type": "code",
   "execution_count": 5,
   "id": "977b2b76-4aa0-405b-a081-6c3493f634a7",
   "metadata": {},
   "outputs": [
    {
     "data": {
      "text/html": [
       "<div>\n",
       "<style scoped>\n",
       "    .dataframe tbody tr th:only-of-type {\n",
       "        vertical-align: middle;\n",
       "    }\n",
       "\n",
       "    .dataframe tbody tr th {\n",
       "        vertical-align: top;\n",
       "    }\n",
       "\n",
       "    .dataframe thead th {\n",
       "        text-align: right;\n",
       "    }\n",
       "</style>\n",
       "<table border=\"1\" class=\"dataframe\">\n",
       "  <thead>\n",
       "    <tr style=\"text-align: right;\">\n",
       "      <th></th>\n",
       "      <th>px</th>\n",
       "      <th>pz</th>\n",
       "      <th>start_speed</th>\n",
       "      <th>end_speed</th>\n",
       "      <th>spin_rate</th>\n",
       "      <th>spin_dir</th>\n",
       "      <th>break_angle</th>\n",
       "      <th>break_length</th>\n",
       "      <th>break_y</th>\n",
       "      <th>ax</th>\n",
       "      <th>...</th>\n",
       "      <th>ab_id</th>\n",
       "      <th>b_count</th>\n",
       "      <th>s_count</th>\n",
       "      <th>outs</th>\n",
       "      <th>pitch_num</th>\n",
       "      <th>on_1b</th>\n",
       "      <th>on_2b</th>\n",
       "      <th>on_3b</th>\n",
       "      <th>pitcher_id</th>\n",
       "      <th>batter_id</th>\n",
       "    </tr>\n",
       "  </thead>\n",
       "  <tbody>\n",
       "    <tr>\n",
       "      <th>0</th>\n",
       "      <td>0.00</td>\n",
       "      <td>2.15</td>\n",
       "      <td>88.8</td>\n",
       "      <td>80.7</td>\n",
       "      <td>placeholder</td>\n",
       "      <td>placeholder</td>\n",
       "      <td>22.8</td>\n",
       "      <td>4.8</td>\n",
       "      <td>24.0</td>\n",
       "      <td>-8.47</td>\n",
       "      <td>...</td>\n",
       "      <td>2.019000e+09</td>\n",
       "      <td>0.0</td>\n",
       "      <td>0.0</td>\n",
       "      <td>0.0</td>\n",
       "      <td>1.0</td>\n",
       "      <td>0.0</td>\n",
       "      <td>0.0</td>\n",
       "      <td>0.0</td>\n",
       "      <td>571666</td>\n",
       "      <td>594777</td>\n",
       "    </tr>\n",
       "    <tr>\n",
       "      <th>1</th>\n",
       "      <td>0.34</td>\n",
       "      <td>2.31</td>\n",
       "      <td>89.9</td>\n",
       "      <td>81.8</td>\n",
       "      <td>placeholder</td>\n",
       "      <td>placeholder</td>\n",
       "      <td>22.8</td>\n",
       "      <td>3.6</td>\n",
       "      <td>24.0</td>\n",
       "      <td>-7.10</td>\n",
       "      <td>...</td>\n",
       "      <td>2.019000e+09</td>\n",
       "      <td>0.0</td>\n",
       "      <td>0.0</td>\n",
       "      <td>1.0</td>\n",
       "      <td>1.0</td>\n",
       "      <td>0.0</td>\n",
       "      <td>0.0</td>\n",
       "      <td>0.0</td>\n",
       "      <td>571666</td>\n",
       "      <td>545361</td>\n",
       "    </tr>\n",
       "    <tr>\n",
       "      <th>2</th>\n",
       "      <td>-0.05</td>\n",
       "      <td>2.03</td>\n",
       "      <td>85.7</td>\n",
       "      <td>79.6</td>\n",
       "      <td>placeholder</td>\n",
       "      <td>placeholder</td>\n",
       "      <td>9.6</td>\n",
       "      <td>6.0</td>\n",
       "      <td>24.0</td>\n",
       "      <td>3.65</td>\n",
       "      <td>...</td>\n",
       "      <td>2.019000e+09</td>\n",
       "      <td>0.0</td>\n",
       "      <td>0.0</td>\n",
       "      <td>1.0</td>\n",
       "      <td>2.0</td>\n",
       "      <td>0.0</td>\n",
       "      <td>0.0</td>\n",
       "      <td>0.0</td>\n",
       "      <td>571666</td>\n",
       "      <td>545361</td>\n",
       "    </tr>\n",
       "    <tr>\n",
       "      <th>3</th>\n",
       "      <td>0.49</td>\n",
       "      <td>0.92</td>\n",
       "      <td>85.4</td>\n",
       "      <td>78.5</td>\n",
       "      <td>placeholder</td>\n",
       "      <td>placeholder</td>\n",
       "      <td>24.0</td>\n",
       "      <td>7.2</td>\n",
       "      <td>24.0</td>\n",
       "      <td>-13.77</td>\n",
       "      <td>...</td>\n",
       "      <td>2.019000e+09</td>\n",
       "      <td>0.0</td>\n",
       "      <td>1.0</td>\n",
       "      <td>1.0</td>\n",
       "      <td>3.0</td>\n",
       "      <td>0.0</td>\n",
       "      <td>0.0</td>\n",
       "      <td>0.0</td>\n",
       "      <td>571666</td>\n",
       "      <td>545361</td>\n",
       "    </tr>\n",
       "    <tr>\n",
       "      <th>4</th>\n",
       "      <td>-0.13</td>\n",
       "      <td>1.11</td>\n",
       "      <td>84.6</td>\n",
       "      <td>77.6</td>\n",
       "      <td>placeholder</td>\n",
       "      <td>placeholder</td>\n",
       "      <td>26.4</td>\n",
       "      <td>8.4</td>\n",
       "      <td>24.0</td>\n",
       "      <td>-15.99</td>\n",
       "      <td>...</td>\n",
       "      <td>2.019000e+09</td>\n",
       "      <td>1.0</td>\n",
       "      <td>1.0</td>\n",
       "      <td>1.0</td>\n",
       "      <td>4.0</td>\n",
       "      <td>0.0</td>\n",
       "      <td>0.0</td>\n",
       "      <td>0.0</td>\n",
       "      <td>571666</td>\n",
       "      <td>545361</td>\n",
       "    </tr>\n",
       "  </tbody>\n",
       "</table>\n",
       "<p>5 rows × 42 columns</p>\n",
       "</div>"
      ],
      "text/plain": [
       "     px    pz  start_speed  end_speed    spin_rate     spin_dir  break_angle  \\\n",
       "0  0.00  2.15         88.8       80.7  placeholder  placeholder         22.8   \n",
       "1  0.34  2.31         89.9       81.8  placeholder  placeholder         22.8   \n",
       "2 -0.05  2.03         85.7       79.6  placeholder  placeholder          9.6   \n",
       "3  0.49  0.92         85.4       78.5  placeholder  placeholder         24.0   \n",
       "4 -0.13  1.11         84.6       77.6  placeholder  placeholder         26.4   \n",
       "\n",
       "   break_length  break_y     ax  ...         ab_id  b_count  s_count  outs  \\\n",
       "0           4.8     24.0  -8.47  ...  2.019000e+09      0.0      0.0   0.0   \n",
       "1           3.6     24.0  -7.10  ...  2.019000e+09      0.0      0.0   1.0   \n",
       "2           6.0     24.0   3.65  ...  2.019000e+09      0.0      0.0   1.0   \n",
       "3           7.2     24.0 -13.77  ...  2.019000e+09      0.0      1.0   1.0   \n",
       "4           8.4     24.0 -15.99  ...  2.019000e+09      1.0      1.0   1.0   \n",
       "\n",
       "  pitch_num  on_1b  on_2b  on_3b  pitcher_id  batter_id  \n",
       "0       1.0    0.0    0.0    0.0      571666     594777  \n",
       "1       1.0    0.0    0.0    0.0      571666     545361  \n",
       "2       2.0    0.0    0.0    0.0      571666     545361  \n",
       "3       3.0    0.0    0.0    0.0      571666     545361  \n",
       "4       4.0    0.0    0.0    0.0      571666     545361  \n",
       "\n",
       "[5 rows x 42 columns]"
      ]
     },
     "execution_count": 5,
     "metadata": {},
     "output_type": "execute_result"
    }
   ],
   "source": [
    "# merge df_atbats_extract to df_pitches\n",
    "df = df_pitches.merge(df_atbats_extract, how='left', on='ab_id')\n",
    "df.head()"
   ]
  },
  {
   "cell_type": "markdown",
   "id": "df502a90-bfb2-430c-b168-6ab4130bd056",
   "metadata": {},
   "source": [
    "<span style=\"color:orange\">  \n",
    "    \n",
    "### goals/steps\n",
    "    \n",
    "1. velo is not the sole factore that makes a pitcher good or bad \n",
    "    - cite from Moneyball\n",
    "    - show plots of fast ball velo v.s. performance metrics\n",
    "2. decide what is a fastball (FT, FF) and calcuate the 'velo' of each pitcher\n",
    "3. use KMeans (or a better model) to cluster pitchers into fastball-based pitchers or not\n",
    "4. for the two groups, identify the difference, compare their performance, etc. \n",
    "5. explore: what makes a pitcher who has a slower pitch excel his counterparts?\n",
    "    - breaking balls\n",
    "    - pitch control\n",
    "6. discuss whether it is possible for a pitcher from another league (e.g. CPBL) and does not throw fireball to survive and thrive in the MLB\n",
    "7. acknowledge factors not taken into account in this study (e.g. psychological, pitch sequence (maybe try to incorporate but got to find a way to), etc.\n",
    "</span>."
   ]
  },
  {
   "cell_type": "code",
   "execution_count": 6,
   "id": "a967d91a-e5f0-470a-b83d-09e8a50198f9",
   "metadata": {},
   "outputs": [],
   "source": [
    "# 0. data cleaning and data wrangling"
   ]
  },
  {
   "cell_type": "code",
   "execution_count": 7,
   "id": "3b672b13-ced4-435d-84a3-aac11d670528",
   "metadata": {},
   "outputs": [],
   "source": [
    "# link name / id "
   ]
  },
  {
   "cell_type": "code",
   "execution_count": 8,
   "id": "8e260862-ec63-4488-bf31-66b6130c31cd",
   "metadata": {},
   "outputs": [],
   "source": [
    "# group pitch types according to statcast"
   ]
  },
  {
   "cell_type": "code",
   "execution_count": null,
   "id": "40c1caa3-b5b4-482e-886d-d4520942c809",
   "metadata": {},
   "outputs": [],
   "source": []
  },
  {
   "cell_type": "code",
   "execution_count": null,
   "id": "244f9f6f-642c-4006-a2f2-e6d8fab9ace9",
   "metadata": {},
   "outputs": [],
   "source": []
  },
  {
   "cell_type": "code",
   "execution_count": 9,
   "id": "5e920934-d329-4012-992d-bcb3d2805263",
   "metadata": {},
   "outputs": [],
   "source": [
    "# 1. # show that pitch velo does not directly affect your performance "
   ]
  },
  {
   "cell_type": "code",
   "execution_count": 10,
   "id": "b0d9ca86-5cec-43ef-a2fc-5ad2add656ac",
   "metadata": {},
   "outputs": [],
   "source": [
    "# refer to the dataset 2019"
   ]
  },
  {
   "cell_type": "code",
   "execution_count": 11,
   "id": "0f95e762-f716-4d29-bd08-49dbeaa4112e",
   "metadata": {},
   "outputs": [],
   "source": [
    "# create columns: IP, ER, BB, H, SO, HR"
   ]
  },
  {
   "cell_type": "code",
   "execution_count": 12,
   "id": "be3a7aac-b1f8-42e7-ae7d-39419741448f",
   "metadata": {},
   "outputs": [],
   "source": [
    "# calculate ERA, FIP, WHIP "
   ]
  },
  {
   "cell_type": "code",
   "execution_count": 13,
   "id": "c30c1f4b-5c7f-4b01-9b5f-d775c7624c84",
   "metadata": {},
   "outputs": [],
   "source": [
    "# plot max velo versus the three metrics"
   ]
  },
  {
   "cell_type": "code",
   "execution_count": null,
   "id": "eddab783-e349-4fac-9ad2-6d822a5c6848",
   "metadata": {},
   "outputs": [],
   "source": []
  },
  {
   "cell_type": "code",
   "execution_count": null,
   "id": "19859811-e9af-4fe9-952d-22118abb63d9",
   "metadata": {},
   "outputs": [],
   "source": []
  },
  {
   "cell_type": "code",
   "execution_count": 14,
   "id": "c8c6589a-9ace-4693-b515-359aa37efd37",
   "metadata": {},
   "outputs": [],
   "source": [
    "# 2. categorize pitchers into fastball-based and non-fastball-based"
   ]
  },
  {
   "cell_type": "code",
   "execution_count": null,
   "id": "265487df-5ffd-42f6-94fa-94931d2f2c7f",
   "metadata": {},
   "outputs": [],
   "source": []
  },
  {
   "cell_type": "code",
   "execution_count": null,
   "id": "6e90175d-f3e1-44e6-9783-8f25af3714f8",
   "metadata": {},
   "outputs": [],
   "source": []
  },
  {
   "cell_type": "code",
   "execution_count": 15,
   "id": "386a5a71-4702-4bd6-9413-c50e4d4f566f",
   "metadata": {},
   "outputs": [],
   "source": [
    "# test and try "
   ]
  },
  {
   "cell_type": "code",
   "execution_count": 16,
   "id": "1924a728-3cfb-4509-b1d9-b12cca927c88",
   "metadata": {},
   "outputs": [
    {
     "data": {
      "text/plain": [
       "pitch_type\n",
       "CH     101\n",
       "CU     323\n",
       "FC     536\n",
       "FF    1797\n",
       "FT     577\n",
       "dtype: int64"
      ]
     },
     "execution_count": 16,
     "metadata": {},
     "output_type": "execute_result"
    }
   ],
   "source": [
    "df_pitchers_stats = pd.read_csv('data/2019_p_stats.csv', index_col=0)\n",
    "df_pitchers_stats[df_pitchers_stats['Name']=='Trevor Bauer']\n",
    "\n",
    "df[df['pitcher_id']==458681].shape\n",
    "df[df['pitcher_id']==458681].groupby('pitch_type').size()\n",
    "# df.groupby('pitcher_id').size().sort_values()"
   ]
  },
  {
   "cell_type": "code",
   "execution_count": 17,
   "id": "ae25e87b-5323-42b3-b806-4030c14f5e5f",
   "metadata": {},
   "outputs": [
    {
     "data": {
      "text/html": [
       "<div>\n",
       "<style scoped>\n",
       "    .dataframe tbody tr th:only-of-type {\n",
       "        vertical-align: middle;\n",
       "    }\n",
       "\n",
       "    .dataframe tbody tr th {\n",
       "        vertical-align: top;\n",
       "    }\n",
       "\n",
       "    .dataframe thead th {\n",
       "        text-align: right;\n",
       "    }\n",
       "</style>\n",
       "<table border=\"1\" class=\"dataframe\">\n",
       "  <thead>\n",
       "    <tr style=\"text-align: right;\">\n",
       "      <th></th>\n",
       "      <th>id</th>\n",
       "      <th>first_name</th>\n",
       "      <th>last_name</th>\n",
       "    </tr>\n",
       "  </thead>\n",
       "  <tbody>\n",
       "    <tr>\n",
       "      <th>241</th>\n",
       "      <td>458681</td>\n",
       "      <td>Lance</td>\n",
       "      <td>Lynn</td>\n",
       "    </tr>\n",
       "  </tbody>\n",
       "</table>\n",
       "</div>"
      ],
      "text/plain": [
       "         id first_name last_name\n",
       "241  458681      Lance      Lynn"
      ]
     },
     "execution_count": 17,
     "metadata": {},
     "output_type": "execute_result"
    }
   ],
   "source": [
    "df_players[df_players['id']==458681]"
   ]
  },
  {
   "cell_type": "code",
   "execution_count": null,
   "id": "9e2e6e94-b359-4107-b8c1-470ecc6a0e64",
   "metadata": {},
   "outputs": [],
   "source": []
  },
  {
   "cell_type": "code",
   "execution_count": null,
   "id": "8bc7eed3-72a1-4e1d-9c6f-467e52a8ebe5",
   "metadata": {},
   "outputs": [],
   "source": []
  },
  {
   "cell_type": "code",
   "execution_count": 18,
   "id": "cef34f57-2db7-448a-a74e-6c490c400ebf",
   "metadata": {},
   "outputs": [
    {
     "data": {
      "text/html": [
       "<div>\n",
       "<style scoped>\n",
       "    .dataframe tbody tr th:only-of-type {\n",
       "        vertical-align: middle;\n",
       "    }\n",
       "\n",
       "    .dataframe tbody tr th {\n",
       "        vertical-align: top;\n",
       "    }\n",
       "\n",
       "    .dataframe thead th {\n",
       "        text-align: right;\n",
       "    }\n",
       "</style>\n",
       "<table border=\"1\" class=\"dataframe\">\n",
       "  <thead>\n",
       "    <tr style=\"text-align: right;\">\n",
       "      <th></th>\n",
       "      <th>batters_faced</th>\n",
       "    </tr>\n",
       "    <tr>\n",
       "      <th>pitcher_id</th>\n",
       "      <th></th>\n",
       "    </tr>\n",
       "  </thead>\n",
       "  <tbody>\n",
       "    <tr>\n",
       "      <th>592407</th>\n",
       "      <td>1.0</td>\n",
       "    </tr>\n",
       "    <tr>\n",
       "      <th>545358</th>\n",
       "      <td>1.0</td>\n",
       "    </tr>\n",
       "    <tr>\n",
       "      <th>576397</th>\n",
       "      <td>1.0</td>\n",
       "    </tr>\n",
       "    <tr>\n",
       "      <th>476454</th>\n",
       "      <td>2.0</td>\n",
       "    </tr>\n",
       "    <tr>\n",
       "      <th>621002</th>\n",
       "      <td>3.0</td>\n",
       "    </tr>\n",
       "    <tr>\n",
       "      <th>...</th>\n",
       "      <td>...</td>\n",
       "    </tr>\n",
       "    <tr>\n",
       "      <th>458681</th>\n",
       "      <td>852.0</td>\n",
       "    </tr>\n",
       "    <tr>\n",
       "      <th>605400</th>\n",
       "      <td>854.0</td>\n",
       "    </tr>\n",
       "    <tr>\n",
       "      <th>669456</th>\n",
       "      <td>863.0</td>\n",
       "    </tr>\n",
       "    <tr>\n",
       "      <th>501985</th>\n",
       "      <td>864.0</td>\n",
       "    </tr>\n",
       "    <tr>\n",
       "      <th>545333</th>\n",
       "      <td>914.0</td>\n",
       "    </tr>\n",
       "  </tbody>\n",
       "</table>\n",
       "<p>828 rows × 1 columns</p>\n",
       "</div>"
      ],
      "text/plain": [
       "            batters_faced\n",
       "pitcher_id               \n",
       "592407                1.0\n",
       "545358                1.0\n",
       "576397                1.0\n",
       "476454                2.0\n",
       "621002                3.0\n",
       "...                   ...\n",
       "458681              852.0\n",
       "605400              854.0\n",
       "669456              863.0\n",
       "501985              864.0\n",
       "545333              914.0\n",
       "\n",
       "[828 rows x 1 columns]"
      ]
     },
     "execution_count": 18,
     "metadata": {},
     "output_type": "execute_result"
    }
   ],
   "source": [
    "# first off, calculate the number of batters faced by each pitcher \n",
    "\n",
    "# generally, without considering any other factors (e.g. age, injury, etc.), a good pitcher is expected to be used \n",
    "# more frequently by the team\n",
    "\n",
    "# repeatedly by the team throughout the season\n",
    "# instead of only once or twice\n",
    "\n",
    "# the column pitch_num is the pitch count of every at_bat \n",
    "# which means that by calculating the occurrence of pitch_number == 1\n",
    "# we would be able to know how many batters a pitcher faced off thorughout this season\n",
    "\n",
    "batters_faced_df = df[df['pitch_num']==1.0].groupby('pitcher_id')['pitch_num'].sum().sort_values().rename('batters_faced').to_frame()\n",
    "batters_faced_df\n"
   ]
  },
  {
   "cell_type": "code",
   "execution_count": 19,
   "id": "1ba8e873-b39d-48df-a632-2410e3153f48",
   "metadata": {},
   "outputs": [
    {
     "data": {
      "text/html": [
       "<div>\n",
       "<style scoped>\n",
       "    .dataframe tbody tr th:only-of-type {\n",
       "        vertical-align: middle;\n",
       "    }\n",
       "\n",
       "    .dataframe tbody tr th {\n",
       "        vertical-align: top;\n",
       "    }\n",
       "\n",
       "    .dataframe thead th {\n",
       "        text-align: right;\n",
       "    }\n",
       "</style>\n",
       "<table border=\"1\" class=\"dataframe\">\n",
       "  <thead>\n",
       "    <tr style=\"text-align: right;\">\n",
       "      <th></th>\n",
       "      <th>id</th>\n",
       "      <th>first_name</th>\n",
       "      <th>last_name</th>\n",
       "    </tr>\n",
       "  </thead>\n",
       "  <tbody>\n",
       "    <tr>\n",
       "      <th>241</th>\n",
       "      <td>458681</td>\n",
       "      <td>Lance</td>\n",
       "      <td>Lynn</td>\n",
       "    </tr>\n",
       "    <tr>\n",
       "      <th>506</th>\n",
       "      <td>621121</td>\n",
       "      <td>Lance</td>\n",
       "      <td>McCullers</td>\n",
       "    </tr>\n",
       "  </tbody>\n",
       "</table>\n",
       "</div>"
      ],
      "text/plain": [
       "         id first_name  last_name\n",
       "241  458681      Lance       Lynn\n",
       "506  621121      Lance  McCullers"
      ]
     },
     "execution_count": 19,
     "metadata": {},
     "output_type": "execute_result"
    },
    {
     "data": {
      "image/png": "[encoded data removed]",
      "text/plain": [
       "<Figure size 640x480 with 1 Axes>"
      ]
     },
     "metadata": {},
     "output_type": "display_data"
    }
   ],
   "source": [
    "batters_faced_df.plot.hist(bins=50)\n",
    "df_players[df_players['id']==501985]\n",
    "df_players[df_players['first_name']=='Lance']\n"
   ]
  },
  {
   "cell_type": "code",
   "execution_count": 20,
   "id": "7bc3b619-855d-4039-8fc2-1b118a34729d",
   "metadata": {},
   "outputs": [
    {
     "data": {
      "text/html": [
       "<div>\n",
       "<style scoped>\n",
       "    .dataframe tbody tr th:only-of-type {\n",
       "        vertical-align: middle;\n",
       "    }\n",
       "\n",
       "    .dataframe tbody tr th {\n",
       "        vertical-align: top;\n",
       "    }\n",
       "\n",
       "    .dataframe thead th {\n",
       "        text-align: right;\n",
       "    }\n",
       "</style>\n",
       "<table border=\"1\" class=\"dataframe\">\n",
       "  <thead>\n",
       "    <tr style=\"text-align: right;\">\n",
       "      <th></th>\n",
       "      <th>count</th>\n",
       "      <th>mean</th>\n",
       "      <th>std</th>\n",
       "      <th>min</th>\n",
       "      <th>25%</th>\n",
       "      <th>50%</th>\n",
       "      <th>75%</th>\n",
       "      <th>max</th>\n",
       "    </tr>\n",
       "    <tr>\n",
       "      <th>pitch_type</th>\n",
       "      <th></th>\n",
       "      <th></th>\n",
       "      <th></th>\n",
       "      <th></th>\n",
       "      <th></th>\n",
       "      <th></th>\n",
       "      <th></th>\n",
       "      <th></th>\n",
       "    </tr>\n",
       "  </thead>\n",
       "  <tbody>\n",
       "    <tr>\n",
       "      <th>SI</th>\n",
       "      <td>55361.0</td>\n",
       "      <td>92.200594</td>\n",
       "      <td>3.036581</td>\n",
       "      <td>74.5</td>\n",
       "      <td>90.200</td>\n",
       "      <td>92.30</td>\n",
       "      <td>94.100</td>\n",
       "      <td>104.3</td>\n",
       "    </tr>\n",
       "    <tr>\n",
       "      <th>FF</th>\n",
       "      <td>261485.0</td>\n",
       "      <td>93.399953</td>\n",
       "      <td>2.677904</td>\n",
       "      <td>50.6</td>\n",
       "      <td>91.800</td>\n",
       "      <td>93.50</td>\n",
       "      <td>95.200</td>\n",
       "      <td>102.9</td>\n",
       "    </tr>\n",
       "    <tr>\n",
       "      <th>FT</th>\n",
       "      <td>61044.0</td>\n",
       "      <td>92.679174</td>\n",
       "      <td>2.652495</td>\n",
       "      <td>71.7</td>\n",
       "      <td>91.000</td>\n",
       "      <td>92.80</td>\n",
       "      <td>94.500</td>\n",
       "      <td>102.5</td>\n",
       "    </tr>\n",
       "    <tr>\n",
       "      <th>FC</th>\n",
       "      <td>46339.0</td>\n",
       "      <td>88.459954</td>\n",
       "      <td>2.865279</td>\n",
       "      <td>58.0</td>\n",
       "      <td>86.600</td>\n",
       "      <td>88.30</td>\n",
       "      <td>90.400</td>\n",
       "      <td>101.4</td>\n",
       "    </tr>\n",
       "    <tr>\n",
       "      <th>SL</th>\n",
       "      <td>127680.0</td>\n",
       "      <td>84.656396</td>\n",
       "      <td>3.254616</td>\n",
       "      <td>50.7</td>\n",
       "      <td>82.600</td>\n",
       "      <td>84.80</td>\n",
       "      <td>86.900</td>\n",
       "      <td>97.1</td>\n",
       "    </tr>\n",
       "    <tr>\n",
       "      <th>CH</th>\n",
       "      <td>79939.0</td>\n",
       "      <td>84.492958</td>\n",
       "      <td>3.467823</td>\n",
       "      <td>51.2</td>\n",
       "      <td>82.500</td>\n",
       "      <td>84.80</td>\n",
       "      <td>86.900</td>\n",
       "      <td>96.7</td>\n",
       "    </tr>\n",
       "    <tr>\n",
       "      <th>FS</th>\n",
       "      <td>10538.0</td>\n",
       "      <td>85.158398</td>\n",
       "      <td>2.513973</td>\n",
       "      <td>74.9</td>\n",
       "      <td>83.600</td>\n",
       "      <td>85.30</td>\n",
       "      <td>86.900</td>\n",
       "      <td>93.8</td>\n",
       "    </tr>\n",
       "    <tr>\n",
       "      <th>KC</th>\n",
       "      <td>15324.0</td>\n",
       "      <td>80.663436</td>\n",
       "      <td>3.067965</td>\n",
       "      <td>64.1</td>\n",
       "      <td>79.100</td>\n",
       "      <td>80.80</td>\n",
       "      <td>82.500</td>\n",
       "      <td>91.3</td>\n",
       "    </tr>\n",
       "    <tr>\n",
       "      <th>CU</th>\n",
       "      <td>64166.0</td>\n",
       "      <td>78.541277</td>\n",
       "      <td>3.597731</td>\n",
       "      <td>50.8</td>\n",
       "      <td>76.200</td>\n",
       "      <td>78.80</td>\n",
       "      <td>81.100</td>\n",
       "      <td>90.1</td>\n",
       "    </tr>\n",
       "    <tr>\n",
       "      <th>FO</th>\n",
       "      <td>36.0</td>\n",
       "      <td>81.338889</td>\n",
       "      <td>1.298192</td>\n",
       "      <td>78.5</td>\n",
       "      <td>80.175</td>\n",
       "      <td>81.35</td>\n",
       "      <td>82.000</td>\n",
       "      <td>84.4</td>\n",
       "    </tr>\n",
       "    <tr>\n",
       "      <th>KN</th>\n",
       "      <td>200.0</td>\n",
       "      <td>73.949500</td>\n",
       "      <td>3.269303</td>\n",
       "      <td>59.4</td>\n",
       "      <td>73.475</td>\n",
       "      <td>74.70</td>\n",
       "      <td>75.525</td>\n",
       "      <td>77.5</td>\n",
       "    </tr>\n",
       "    <tr>\n",
       "      <th>EP</th>\n",
       "      <td>49.0</td>\n",
       "      <td>64.685714</td>\n",
       "      <td>2.592618</td>\n",
       "      <td>57.9</td>\n",
       "      <td>63.200</td>\n",
       "      <td>64.80</td>\n",
       "      <td>66.100</td>\n",
       "      <td>70.3</td>\n",
       "    </tr>\n",
       "  </tbody>\n",
       "</table>\n",
       "</div>"
      ],
      "text/plain": [
       "               count       mean       std   min     25%    50%     75%    max\n",
       "pitch_type                                                                   \n",
       "SI           55361.0  92.200594  3.036581  74.5  90.200  92.30  94.100  104.3\n",
       "FF          261485.0  93.399953  2.677904  50.6  91.800  93.50  95.200  102.9\n",
       "FT           61044.0  92.679174  2.652495  71.7  91.000  92.80  94.500  102.5\n",
       "FC           46339.0  88.459954  2.865279  58.0  86.600  88.30  90.400  101.4\n",
       "SL          127680.0  84.656396  3.254616  50.7  82.600  84.80  86.900   97.1\n",
       "CH           79939.0  84.492958  3.467823  51.2  82.500  84.80  86.900   96.7\n",
       "FS           10538.0  85.158398  2.513973  74.9  83.600  85.30  86.900   93.8\n",
       "KC           15324.0  80.663436  3.067965  64.1  79.100  80.80  82.500   91.3\n",
       "CU           64166.0  78.541277  3.597731  50.8  76.200  78.80  81.100   90.1\n",
       "FO              36.0  81.338889  1.298192  78.5  80.175  81.35  82.000   84.4\n",
       "KN             200.0  73.949500  3.269303  59.4  73.475  74.70  75.525   77.5\n",
       "EP              49.0  64.685714  2.592618  57.9  63.200  64.80  66.100   70.3"
      ]
     },
     "execution_count": 20,
     "metadata": {},
     "output_type": "execute_result"
    }
   ],
   "source": [
    "df.groupby('pitch_type')['start_speed'].describe().sort_values('max',ascending=False)"
   ]
  },
  {
   "cell_type": "code",
   "execution_count": 21,
   "id": "17c31017-57ae-40ae-b7c8-6c0d7bb621c8",
   "metadata": {},
   "outputs": [],
   "source": [
    "# from the .describe() table, pitches that have max velo over 100mph are SI, FF, FT and FC.\n",
    "# SI even has the highest max velo (even faster than FF and FT) \n",
    "\n",
    "# however, in most scenarios, only four-seam and two-seam are considered straight up fastball\n",
    "# this can also be intepretted from the visualization"
   ]
  },
  {
   "cell_type": "code",
   "execution_count": 22,
   "id": "44565874-8e2b-452e-9203-c9e4d8f72cba",
   "metadata": {},
   "outputs": [
    {
     "name": "stderr",
     "output_type": "stream",
     "text": [
      "/opt/anaconda3/envs/cpsc330/lib/python3.10/site-packages/seaborn/_oldcore.py:1498: FutureWarning: is_categorical_dtype is deprecated and will be removed in a future version. Use isinstance(dtype, CategoricalDtype) instead\n",
      "  if pd.api.types.is_categorical_dtype(vector):\n",
      "/opt/anaconda3/envs/cpsc330/lib/python3.10/site-packages/seaborn/_oldcore.py:1498: FutureWarning: is_categorical_dtype is deprecated and will be removed in a future version. Use isinstance(dtype, CategoricalDtype) instead\n",
      "  if pd.api.types.is_categorical_dtype(vector):\n",
      "/opt/anaconda3/envs/cpsc330/lib/python3.10/site-packages/seaborn/_oldcore.py:1498: FutureWarning: is_categorical_dtype is deprecated and will be removed in a future version. Use isinstance(dtype, CategoricalDtype) instead\n",
      "  if pd.api.types.is_categorical_dtype(vector):\n",
      "/opt/anaconda3/envs/cpsc330/lib/python3.10/site-packages/seaborn/_oldcore.py:1498: FutureWarning: is_categorical_dtype is deprecated and will be removed in a future version. Use isinstance(dtype, CategoricalDtype) instead\n",
      "  if pd.api.types.is_categorical_dtype(vector):\n",
      "/opt/anaconda3/envs/cpsc330/lib/python3.10/site-packages/seaborn/_oldcore.py:1119: FutureWarning: use_inf_as_na option is deprecated and will be removed in a future version. Convert inf values to NaN before operating instead.\n",
      "  with pd.option_context('mode.use_inf_as_na', True):\n"
     ]
    },
    {
     "data": {
      "image/png": "[encoded data removed]",
      "text/plain": [
       "<Figure size 640x480 with 1 Axes>"
      ]
     },
     "metadata": {},
     "output_type": "display_data"
    }
   ],
   "source": [
    "# visualize the distributions of the top four pitches (FF, FT, SI, FC) in terms of repeat measure (i.e. group by pitchers)\n",
    "\n",
    "FF = df[df['pitch_type']=='FF'].groupby('pitcher_id')['start_speed'].mean().rename('four_seam')\n",
    "FT = df[df['pitch_type']=='FT'].groupby('pitcher_id')['start_speed'].mean().rename('two_seam')\n",
    "SI = df[df['pitch_type']=='SI'].groupby('pitcher_id')['start_speed'].mean().rename('sinker')\n",
    "FC = df[df['pitch_type']=='FC'].groupby('pitcher_id')['start_speed'].mean().rename('cutter')\n",
    "\n",
    "fastballs = pd.concat([FF, FT, SI, FC], axis=1)\n",
    "# fastballs\n",
    "\n",
    "# reshape to long dataframe (for seaborn)\n",
    "fastballs_long = fastballs.melt(var_name='type', value_name='speed')\n",
    "# fastballs_long\n",
    "\n",
    "sns.set(style='whitegrid')\n",
    "sns.color_palette(\"Set2\")\n",
    "sns.histplot(data=fastballs_long, x='speed', hue='type', bins=50, element='step', palette='Set2')\n",
    "plt.show()\n",
    "\n",
    "# ignore warning messages\n",
    "import warnings\n",
    "warnings.simplefilter(action='ignore', category=FutureWarning)"
   ]
  },
  {
   "cell_type": "code",
   "execution_count": 23,
   "id": "edfd97bd-ee9f-4578-b848-f646dfe1471c",
   "metadata": {},
   "outputs": [],
   "source": [
    "# when comparing the distribution of sinker to four-seam and two-seam, it is actually ...(TODO)"
   ]
  },
  {
   "cell_type": "code",
   "execution_count": 24,
   "id": "a7a86ece-4e26-4c22-8804-80e0447fc991",
   "metadata": {},
   "outputs": [],
   "source": [
    "# now we only consider fastballs as either four-seam or two-seam. \n",
    "# to visualize the fastball velocity distribution of the MLB pitchers, first we need to decide\n",
    "# how we are going to choose between FF and FT "
   ]
  },
  {
   "cell_type": "code",
   "execution_count": 25,
   "id": "b7d510fd-3c25-4e78-9026-e1849c4750e0",
   "metadata": {},
   "outputs": [
    {
     "data": {
      "text/plain": [
       "<Axes: xlabel='four_seam', ylabel='two_seam'>"
      ]
     },
     "execution_count": 25,
     "metadata": {},
     "output_type": "execute_result"
    },
    {
     "data": {
      "image/png": "[encoded data removed]",
      "text/plain": [
       "<Figure size 640x480 with 1 Axes>"
      ]
     },
     "metadata": {},
     "output_type": "display_data"
    }
   ],
   "source": [
    "# (decided to only consider FF and FT as fastballs)\n",
    "# now visualize the ...\n",
    "fastballs[fastballs['four_seam']<fastballs['two_seam']].sort_values('two_seam', ascending=False)\n",
    "fastballs[fastballs['four_seam']>fastballs['two_seam']].sort_values('four_seam', ascending=False)\n",
    "fb=fastballs.drop(columns=['sinker','cutter'])\n",
    "fb.plot.scatter(x='four_seam',y='two_seam')"
   ]
  },
  {
   "cell_type": "code",
   "execution_count": null,
   "id": "59f0cc7b-4524-4813-911a-ff3fbb22a4e0",
   "metadata": {},
   "outputs": [],
   "source": []
  },
  {
   "cell_type": "code",
   "execution_count": 26,
   "id": "9ef0fa3d-1cb2-4cc3-b911-8c13aeb43058",
   "metadata": {},
   "outputs": [
    {
     "name": "stderr",
     "output_type": "stream",
     "text": [
      "/opt/anaconda3/envs/cpsc330/lib/python3.10/site-packages/seaborn/axisgrid.py:118: UserWarning: The figure layout has changed to tight\n",
      "  self._figure.tight_layout(*args, **kwargs)\n"
     ]
    },
    {
     "data": {
      "text/plain": [
       "<seaborn.axisgrid.FacetGrid at 0x14b0e8070>"
      ]
     },
     "execution_count": 26,
     "metadata": {},
     "output_type": "execute_result"
    },
    {
     "data": {
      "image/png": "[encoded data removed]",
      "text/plain": [
       "<Figure size 500x500 with 1 Axes>"
      ]
     },
     "metadata": {},
     "output_type": "display_data"
    }
   ],
   "source": [
    "# plot fast ball velo v.s. number of batter faced \n",
    "# to show that good fast ball velo is not the sole factor that contribute to the goodness of a pitcher\n",
    "\n",
    "batters_faced_df\n",
    "start_speed_df = df.groupby('pitcher_id')['start_speed'].max().to_frame()\n",
    "battersfaced_speed = pd.concat([batters_faced_df,start_speed_df], axis=1)\n",
    "battersfaced_speed\n",
    "\n",
    "# battersfaced_speed.plot.scatter(x='batters_faced',y='pitch_num')\n",
    "sns.lmplot(x='start_speed',y='batters_faced',data=battersfaced_speed,fit_reg=True,scatter_kws={'s':5}) \n",
    "\n",
    "# should get rid of the regression line here. \n",
    "# make a plot that get rid of the outliers and put up the regression line on that one\n",
    "\n",
    "# result: the plot shows that even you have a max velo over 100mph, you are not guaranteed to be \n",
    "# one of the most used pitchers in your team\n",
    "# also be mindful that this plot does not take in any additional information\n",
    "# i.e. whether this pitcher injured themselves so that they did not pitch a lot "
   ]
  },
  {
   "cell_type": "code",
   "execution_count": 27,
   "id": "27a7f7d3-61fa-40c1-a3cc-78c535d8f9fa",
   "metadata": {},
   "outputs": [],
   "source": [
    "# analyze pitchers with slower fast ball - what else makes them so good?"
   ]
  },
  {
   "cell_type": "code",
   "execution_count": null,
   "id": "358dfacb-00a2-4b0a-a224-601faf7d93cc",
   "metadata": {},
   "outputs": [],
   "source": []
  },
  {
   "cell_type": "code",
   "execution_count": null,
   "id": "f78bada0-1f4f-4262-af85-1ba2ea1167fd",
   "metadata": {},
   "outputs": [],
   "source": []
  },
  {
   "cell_type": "code",
   "execution_count": null,
   "id": "bb844de6-3d77-417b-9d41-01bd051a6fe6",
   "metadata": {},
   "outputs": [],
   "source": []
  },
  {
   "cell_type": "code",
   "execution_count": 28,
   "id": "ab3f4272-d3e4-4eb0-acce-fb7d730d4a45",
   "metadata": {},
   "outputs": [],
   "source": [
    "# now that we have three kinds of fastballs, we want to know whether a pitcher use one of the fastballs predominantly, \n",
    "# or there are actually some pitchers use a mix of different fast balls. \n",
    "\n",
    "# summarize a table that include ratios of different fastballs \n",
    "# and plot "
   ]
  },
  {
   "cell_type": "code",
   "execution_count": 29,
   "id": "96eb1aed-8086-4dae-91d7-a5bb0ad946bc",
   "metadata": {},
   "outputs": [],
   "source": [
    "# ARCHIVE\n",
    "\n",
    "# next, consider a pitcher only use one of the three fastballs as their predominantly used fastball \n",
    "# find the type of fastball that each pitcher throws the most among the three \n",
    "# use that as 'his fastball' and plot a histogram of fastball velo across all MLB pitchers\n",
    "\n",
    "# fastballs"
   ]
  },
  {
   "cell_type": "code",
   "execution_count": null,
   "id": "64e377d0-4f78-4f20-93b9-1e97116febad",
   "metadata": {},
   "outputs": [],
   "source": []
  }
 ],
 "metadata": {
  "kernelspec": {
   "display_name": "cpsc330",
   "language": "python",
   "name": "python3"
  },
  "language_info": {
   "codemirror_mode": {
    "name": "ipython",
    "version": 3
   },
   "file_extension": ".py",
   "mimetype": "text/x-python",
   "name": "python",
   "nbconvert_exporter": "python",
   "pygments_lexer": "ipython3",
   "version": "3.10.0"
  }
 },
 "nbformat": 4,
 "nbformat_minor": 5
}
