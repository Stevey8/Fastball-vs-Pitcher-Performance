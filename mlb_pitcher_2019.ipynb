{
 "cells": [
  {
   "cell_type": "markdown",
   "metadata": {},
   "source": [
    "# Fastball v.s. Pitcher Performance: Does Pitching Fast Guarantee You a Success?\n",
    "Fastball is arguably one of the most interesting aspects to watch in a baseball game: no intentional breaking, no change of speed, but simply putting pure challenge on batter. People often associate a fastball with its speed, and there are several reasons to it: \n",
    "1. Most professional leagues use specific instruments (e.g. radars, cameras) that can detect the speed of a ball, and can exhibit the number to the audiance right after a pitch, which is mostly shown on an giant electronic board in the ballpark. This makes the speed of pitch the most accessible piece of information.\n",
    "2. Speed is one of the easiest statistics to understand and interpret, and it is somewhat relatable to everyday life (e.g. car speed)\n",
    "3. Fastball usually has the fastest speed among all kind of pitches, which produces the greatest number that people can see on a ballpark's electronic board. Imagine if you are in a Major League baseball game and a pitcher throws a fastball that reaches three digit (over 100 mph), audiance will be wowing at it.  \n",
    "\n",
    "As the understanding of kinesiology becomes more advanced these days, athletes are trained to reach beyond their limit that they can never imagine. In baseball, more pitchers are able to throw over 100 miles per hour. However, despite the awe of the speed statistics, does this really guarantee these fireball pitchers to perform well in the league? How about the other pitchers who are not able to throw that fast, are they doomed instead? Clearly, the answers are false to both questions, since a baseball game is way more complicated to be addressed with just one piece of statistics.   \n",
    "\n",
    "But at the end of the day, why does fastball speed ever matter? And what about those slower-pitching pitchers, how do they survive? This study aims to explore the topics listed as follows: \n",
    "1. Correlation between average fastball speed and walks-and-hits-per-inning-pitched (WHIP), a pitcher's performance metric.\n",
    "2. Correlation between average fastball speed and K/9 (strikeouts per nine innings), a metric that measures the strikeout rate of a pitcher.\n",
    "3. Interpretting the essentials of WHIP and K/9.\n",
    "4. The roles for hard-throwing pitchers on a team"
   ]
  },
  {
   "cell_type": "markdown",
   "metadata": {},
   "source": [
    "# Setup\n",
    "The datasets for the study is from Kaggle (https://www.kaggle.com/datasets/pschale/mlb-pitch-data-20152018). Although the title of this page indicates year 2015-2018, the author of the page did add datasets from year 2019 as well. The study will based on the latest dataset, which is the MLB pitch-by-pitch data in season 2019. "
   ]
  },
  {
   "cell_type": "code",
   "execution_count": 25,
   "metadata": {},
   "outputs": [],
   "source": [
    "import pandas as pd \n",
    "import numpy as np \n",
    "import matplotlib.pyplot as plt \n",
    "import seaborn as sns \n",
    "from scipy import stats"
   ]
  },
  {
   "cell_type": "code",
   "execution_count": 26,
   "id": "0f574d39-396d-42ad-b0b8-0118ee82628e",
   "metadata": {},
   "outputs": [],
   "source": [
    "# read files \n",
    "raw_atbats = pd.read_csv('data/2019_atbats.csv')\n",
    "raw_games = pd.read_csv('data/2019_games.csv')\n",
    "raw_pitches = pd.read_csv('data/2019_pitches.csv')\n",
    "raw_players = pd.read_csv('data/player_names.csv')"
   ]
  },
  {
   "cell_type": "markdown",
   "metadata": {},
   "source": [
    "# Data Cleaning and Wrangling "
   ]
  },
  {
   "cell_type": "markdown",
   "metadata": {},
   "source": [
    "First, we need to make sure that all players' ids are included in `raw_players`."
   ]
  },
  {
   "cell_type": "code",
   "execution_count": 27,
   "id": "e657f24a-0370-4f4c-ae8f-44b631bca69f",
   "metadata": {},
   "outputs": [],
   "source": [
    "pitcher_ids = raw_atbats['pitcher_id'].unique()\n",
    "batter_ids = raw_atbats['batter_id'].unique()\n",
    "\n",
    "for i,n in enumerate(pitcher_ids):\n",
    "    assert i in raw_players['id']\n",
    "        \n",
    "for i,n in enumerate(batter_ids):\n",
    "    assert i in raw_players['id']"
   ]
  },
  {
   "cell_type": "markdown",
   "metadata": {},
   "source": [
    "Among the four datasets, the major foucs will be `raw_pitches`. This dataset records every pitch/at-bat in the 2019 MLB season, which is identified by a unique at-bat id (`'ab_id'`). However, it does not specify which pitcher/batter was involved in each at-bat. We therefore extract relevant information from `raw_atbats` (`'ab_id'`,`'pitcher_id'`,`'batter_id'`) and merge it to `raw_pitches`. On top of that, we extract names of pitchers from `raw_players` and merge according to the new `pitcher_id` column*. This allows us to only need to use one dataframe in later sections, and it will be assigned to the variable named `df`.  \n",
    "\n",
    "`inning` is also extracted from `raw_atbats` since it will also be used in the following section.\n",
    "  \n",
    "*Since the project aims to focus on pitching, we skip the merging of batters names."
   ]
  },
  {
   "cell_type": "code",
   "execution_count": 28,
   "id": "00beaa54-96e1-4a1e-9ece-0fbed0923aa9",
   "metadata": {},
   "outputs": [
    {
     "data": {
      "text/html": [
       "<div>\n",
       "<style scoped>\n",
       "    .dataframe tbody tr th:only-of-type {\n",
       "        vertical-align: middle;\n",
       "    }\n",
       "\n",
       "    .dataframe tbody tr th {\n",
       "        vertical-align: top;\n",
       "    }\n",
       "\n",
       "    .dataframe thead th {\n",
       "        text-align: right;\n",
       "    }\n",
       "</style>\n",
       "<table border=\"1\" class=\"dataframe\">\n",
       "  <thead>\n",
       "    <tr style=\"text-align: right;\">\n",
       "      <th></th>\n",
       "      <th>px</th>\n",
       "      <th>pz</th>\n",
       "      <th>start_speed</th>\n",
       "      <th>end_speed</th>\n",
       "      <th>spin_rate</th>\n",
       "      <th>spin_dir</th>\n",
       "      <th>break_angle</th>\n",
       "      <th>break_length</th>\n",
       "      <th>break_y</th>\n",
       "      <th>ax</th>\n",
       "      <th>...</th>\n",
       "      <th>s_count</th>\n",
       "      <th>outs</th>\n",
       "      <th>pitch_num</th>\n",
       "      <th>on_1b</th>\n",
       "      <th>on_2b</th>\n",
       "      <th>on_3b</th>\n",
       "      <th>pitcher_id</th>\n",
       "      <th>batter_id</th>\n",
       "      <th>inning</th>\n",
       "      <th>pitcher_name</th>\n",
       "    </tr>\n",
       "  </thead>\n",
       "  <tbody>\n",
       "    <tr>\n",
       "      <th>0</th>\n",
       "      <td>0.00</td>\n",
       "      <td>2.15</td>\n",
       "      <td>88.8</td>\n",
       "      <td>80.7</td>\n",
       "      <td>placeholder</td>\n",
       "      <td>placeholder</td>\n",
       "      <td>22.8</td>\n",
       "      <td>4.8</td>\n",
       "      <td>24.0</td>\n",
       "      <td>-8.47</td>\n",
       "      <td>...</td>\n",
       "      <td>0.0</td>\n",
       "      <td>0.0</td>\n",
       "      <td>1.0</td>\n",
       "      <td>0.0</td>\n",
       "      <td>0.0</td>\n",
       "      <td>0.0</td>\n",
       "      <td>571666</td>\n",
       "      <td>594777</td>\n",
       "      <td>1.0</td>\n",
       "      <td>Mike Fiers</td>\n",
       "    </tr>\n",
       "    <tr>\n",
       "      <th>1</th>\n",
       "      <td>0.34</td>\n",
       "      <td>2.31</td>\n",
       "      <td>89.9</td>\n",
       "      <td>81.8</td>\n",
       "      <td>placeholder</td>\n",
       "      <td>placeholder</td>\n",
       "      <td>22.8</td>\n",
       "      <td>3.6</td>\n",
       "      <td>24.0</td>\n",
       "      <td>-7.10</td>\n",
       "      <td>...</td>\n",
       "      <td>0.0</td>\n",
       "      <td>1.0</td>\n",
       "      <td>1.0</td>\n",
       "      <td>0.0</td>\n",
       "      <td>0.0</td>\n",
       "      <td>0.0</td>\n",
       "      <td>571666</td>\n",
       "      <td>545361</td>\n",
       "      <td>1.0</td>\n",
       "      <td>Mike Fiers</td>\n",
       "    </tr>\n",
       "    <tr>\n",
       "      <th>2</th>\n",
       "      <td>-0.05</td>\n",
       "      <td>2.03</td>\n",
       "      <td>85.7</td>\n",
       "      <td>79.6</td>\n",
       "      <td>placeholder</td>\n",
       "      <td>placeholder</td>\n",
       "      <td>9.6</td>\n",
       "      <td>6.0</td>\n",
       "      <td>24.0</td>\n",
       "      <td>3.65</td>\n",
       "      <td>...</td>\n",
       "      <td>0.0</td>\n",
       "      <td>1.0</td>\n",
       "      <td>2.0</td>\n",
       "      <td>0.0</td>\n",
       "      <td>0.0</td>\n",
       "      <td>0.0</td>\n",
       "      <td>571666</td>\n",
       "      <td>545361</td>\n",
       "      <td>1.0</td>\n",
       "      <td>Mike Fiers</td>\n",
       "    </tr>\n",
       "    <tr>\n",
       "      <th>3</th>\n",
       "      <td>0.49</td>\n",
       "      <td>0.92</td>\n",
       "      <td>85.4</td>\n",
       "      <td>78.5</td>\n",
       "      <td>placeholder</td>\n",
       "      <td>placeholder</td>\n",
       "      <td>24.0</td>\n",
       "      <td>7.2</td>\n",
       "      <td>24.0</td>\n",
       "      <td>-13.77</td>\n",
       "      <td>...</td>\n",
       "      <td>1.0</td>\n",
       "      <td>1.0</td>\n",
       "      <td>3.0</td>\n",
       "      <td>0.0</td>\n",
       "      <td>0.0</td>\n",
       "      <td>0.0</td>\n",
       "      <td>571666</td>\n",
       "      <td>545361</td>\n",
       "      <td>1.0</td>\n",
       "      <td>Mike Fiers</td>\n",
       "    </tr>\n",
       "    <tr>\n",
       "      <th>4</th>\n",
       "      <td>-0.13</td>\n",
       "      <td>1.11</td>\n",
       "      <td>84.6</td>\n",
       "      <td>77.6</td>\n",
       "      <td>placeholder</td>\n",
       "      <td>placeholder</td>\n",
       "      <td>26.4</td>\n",
       "      <td>8.4</td>\n",
       "      <td>24.0</td>\n",
       "      <td>-15.99</td>\n",
       "      <td>...</td>\n",
       "      <td>1.0</td>\n",
       "      <td>1.0</td>\n",
       "      <td>4.0</td>\n",
       "      <td>0.0</td>\n",
       "      <td>0.0</td>\n",
       "      <td>0.0</td>\n",
       "      <td>571666</td>\n",
       "      <td>545361</td>\n",
       "      <td>1.0</td>\n",
       "      <td>Mike Fiers</td>\n",
       "    </tr>\n",
       "  </tbody>\n",
       "</table>\n",
       "<p>5 rows × 44 columns</p>\n",
       "</div>"
      ],
      "text/plain": [
       "     px    pz  start_speed  end_speed    spin_rate     spin_dir  break_angle  \\\n",
       "0  0.00  2.15         88.8       80.7  placeholder  placeholder         22.8   \n",
       "1  0.34  2.31         89.9       81.8  placeholder  placeholder         22.8   \n",
       "2 -0.05  2.03         85.7       79.6  placeholder  placeholder          9.6   \n",
       "3  0.49  0.92         85.4       78.5  placeholder  placeholder         24.0   \n",
       "4 -0.13  1.11         84.6       77.6  placeholder  placeholder         26.4   \n",
       "\n",
       "   break_length  break_y     ax  ...  s_count  outs  pitch_num  on_1b on_2b  \\\n",
       "0           4.8     24.0  -8.47  ...      0.0   0.0        1.0    0.0   0.0   \n",
       "1           3.6     24.0  -7.10  ...      0.0   1.0        1.0    0.0   0.0   \n",
       "2           6.0     24.0   3.65  ...      0.0   1.0        2.0    0.0   0.0   \n",
       "3           7.2     24.0 -13.77  ...      1.0   1.0        3.0    0.0   0.0   \n",
       "4           8.4     24.0 -15.99  ...      1.0   1.0        4.0    0.0   0.0   \n",
       "\n",
       "   on_3b  pitcher_id  batter_id  inning  pitcher_name  \n",
       "0    0.0      571666     594777     1.0    Mike Fiers  \n",
       "1    0.0      571666     545361     1.0    Mike Fiers  \n",
       "2    0.0      571666     545361     1.0    Mike Fiers  \n",
       "3    0.0      571666     545361     1.0    Mike Fiers  \n",
       "4    0.0      571666     545361     1.0    Mike Fiers  \n",
       "\n",
       "[5 rows x 44 columns]"
      ]
     },
     "execution_count": 28,
     "metadata": {},
     "output_type": "execute_result"
    }
   ],
   "source": [
    "# extract pitcher_id, batter_id, ab_id (at bat id) and inning from raw_atbats\n",
    "atbats_extract = raw_atbats[['ab_id','pitcher_id','batter_id','inning']]\n",
    "\n",
    "# merge df_atbats_extract to df_pitches\n",
    "pitches_with_ids = pd.merge(raw_pitches, atbats_extract, how='left', on='ab_id')\n",
    "\n",
    "# create a column full_name in df_players\n",
    "def get_full_name(str1,str2):\n",
    "    full_name = str1+' '+str2\n",
    "    return (str1 + ' ' + str2)\n",
    "\n",
    "raw_players['full_name']=raw_players.apply(lambda row: get_full_name(row['first_name'],row['last_name']),axis=1)\n",
    "\n",
    "# merge full name with df_pitches_with_ids and assign the whole dataframe object to df \n",
    "df = pd.merge(pitches_with_ids,raw_players, left_on='pitcher_id', right_on='id', how='left')\n",
    "df = df.drop(columns=['id','first_name','last_name']).rename(columns={'full_name':'pitcher_name'})\n",
    "df.head()"
   ]
  },
  {
   "cell_type": "markdown",
   "metadata": {},
   "source": [
    "## Pitch Group (Fastball, Offspeed, Breaking)"
   ]
  },
  {
   "cell_type": "code",
   "execution_count": 29,
   "metadata": {},
   "outputs": [
    {
     "data": {
      "text/plain": [
       "array(['FF', 'SL', 'CH', 'FT', 'SI', 'KC', 'CU', 'FC', 'FS', 'EP', nan,\n",
       "       'KN', 'FO'], dtype=object)"
      ]
     },
     "execution_count": 29,
     "metadata": {},
     "output_type": "execute_result"
    }
   ],
   "source": [
    "df['pitch_type'].unique()"
   ]
  },
  {
   "cell_type": "markdown",
   "metadata": {},
   "source": [
    "According to Statcast (https://baseballsavant.mlb.com/statcast_search), pitch types can be categorized into three major groups: fastball, offspeed and breaking. Below is the list of pitch types that falls into each class:\n",
    "- Fastball: 4-seam (FF), 2-seam/sinker (SI)**, cutter (FC)\n",
    "- Offspeed: changeup (CH), split-finger (FS), forkball (FO)***, screwball (SC)\n",
    "- breaking: curveball (CU), knuckle curve (KC), slow curve (CS), slider (SL), sweeper (ST), slurve (SV), knuckleball (KN), eephus (EP)\n",
    "  \n",
    "The source of our datasets (https://www.kaggle.com/datasets/pschale/mlb-pitch-data-20152018) also provides pitch type definitions. While most of the abbreviations correspond with Statcast, some are actually different. \n",
    "1. The dataset has 2-seam fastball (FT) as a seperate category from sinker. \n",
    "2. FO is pitchout in the dataset, instead of fork ball.\n",
    "3. Some of the pitch types in Statcast do not exist in the dataset; instead, some of the pitches might be put into a more general term (e.g. slow curve might be identified as curveball). Despite the differences, the matter would not be significant in this study because we will not dive into the performance of each specific pitch type (instead, we will just look at fastball or breaking ball in general).\n",
    "  \n",
    "Combined, we will group the pitch types into the following order:\n",
    "- Fastball: FF, FT, FC, SI\n",
    "- Offspeed: CH, FS\n",
    "- Breaking: CU, KC, SL, KN, EP\n",
    "- Other: FO, nan "
   ]
  },
  {
   "cell_type": "code",
   "execution_count": 30,
   "metadata": {},
   "outputs": [
    {
     "data": {
      "text/html": [
       "<div>\n",
       "<style scoped>\n",
       "    .dataframe tbody tr th:only-of-type {\n",
       "        vertical-align: middle;\n",
       "    }\n",
       "\n",
       "    .dataframe tbody tr th {\n",
       "        vertical-align: top;\n",
       "    }\n",
       "\n",
       "    .dataframe thead th {\n",
       "        text-align: right;\n",
       "    }\n",
       "</style>\n",
       "<table border=\"1\" class=\"dataframe\">\n",
       "  <thead>\n",
       "    <tr style=\"text-align: right;\">\n",
       "      <th></th>\n",
       "      <th>pitch_type</th>\n",
       "      <th>pitch_group</th>\n",
       "    </tr>\n",
       "  </thead>\n",
       "  <tbody>\n",
       "    <tr>\n",
       "      <th>0</th>\n",
       "      <td>FF</td>\n",
       "      <td>fastball</td>\n",
       "    </tr>\n",
       "    <tr>\n",
       "      <th>1</th>\n",
       "      <td>FF</td>\n",
       "      <td>fastball</td>\n",
       "    </tr>\n",
       "    <tr>\n",
       "      <th>2</th>\n",
       "      <td>SL</td>\n",
       "      <td>breaking</td>\n",
       "    </tr>\n",
       "    <tr>\n",
       "      <th>3</th>\n",
       "      <td>CH</td>\n",
       "      <td>offspeed</td>\n",
       "    </tr>\n",
       "    <tr>\n",
       "      <th>4</th>\n",
       "      <td>CH</td>\n",
       "      <td>offspeed</td>\n",
       "    </tr>\n",
       "  </tbody>\n",
       "</table>\n",
       "</div>"
      ],
      "text/plain": [
       "  pitch_type pitch_group\n",
       "0         FF    fastball\n",
       "1         FF    fastball\n",
       "2         SL    breaking\n",
       "3         CH    offspeed\n",
       "4         CH    offspeed"
      ]
     },
     "execution_count": 30,
     "metadata": {},
     "output_type": "execute_result"
    }
   ],
   "source": [
    "# categorize each pitch type ('pitch_type') into one of fastball, offspeed, breaking or unknown \n",
    "\n",
    "def map_categorize_pitch(pitch):\n",
    "    if pitch in ['FF','FT','FC','SI']:\n",
    "        return 'fastball'\n",
    "    elif pitch in ['CH', 'FS', 'FO']:\n",
    "        return 'offspeed'\n",
    "    elif pitch in ['CU', 'KC', 'SL', 'KN', 'EP']:\n",
    "        return 'breaking'\n",
    "    else: \n",
    "        return 'unknown'\n",
    "\n",
    "df['pitch_group'] = df['pitch_type'].apply(map_categorize_pitch)\n",
    "df[['pitch_type','pitch_group']].head()"
   ]
  },
  {
   "cell_type": "markdown",
   "metadata": {},
   "source": [
    "## Pitchers Statistics "
   ]
  },
  {
   "cell_type": "markdown",
   "metadata": {},
   "source": [
    "The goal here is to summarize the statistics of each pitchers from `df`, which will be stored in a different variable called `players`. Below is a list of statistics that we will summarize for each pitcher: \n",
    "- walks\n",
    "- hits\n",
    "- ip\n",
    "- WHIP (walks and hits per inning pitched)\n",
    "- average fastball speed \n",
    "- K/9 (strikeouts per nine innings)  \n",
    "...\n",
    "- fastball usage ratio\n",
    "- offspeed ball usage ratio\n",
    "- breaking ball usage ratio\n",
    "- ...tbd\n",
    "  \n",
    "\n",
    "Details and usages of these features will be introduced in later sections. "
   ]
  },
  {
   "cell_type": "markdown",
   "metadata": {},
   "source": [
    "### Walks, Hits, Innings Pitched, and WHIP\n",
    "WHIP (walks and hits per inning pitched) is a widely used metric to measure the goodness of a pitcher (details see 1. Correlation Between Average Fastball Speed and WHIP). It is calculated by three other statstics of a pitcher, walks, hits and innings pitched (ip). For each pitcher, we summarize these four statistics and stored the data to `players`."
   ]
  },
  {
   "cell_type": "code",
   "execution_count": 31,
   "metadata": {},
   "outputs": [
    {
     "name": "stdout",
     "output_type": "stream",
     "text": [
      "            walks   hits          ip      whip\n",
      "pitcher_id                                    \n",
      "282332       34.0  120.0  107.333333  1.434783\n",
      "407845       20.0   50.0   46.000000  1.521739\n",
      "424144        7.0   43.0   40.333333  1.239669\n",
      "425794       45.0  189.0  171.666667  1.363107\n",
      "425844       19.0  189.0  208.666667  0.996805\n"
     ]
    }
   ],
   "source": [
    "# walks: count any ball event ('code' == 'B') when ball count ('b_count') is already 3 \n",
    "s_walks = df[(df['code'] == 'B') & (df['b_count'] == 3)].groupby('pitcher_id').size().rename('walks')\n",
    "\n",
    "# hits: when an event code is either 'in play, no out' ('D') or 'in play, runs' ('E')\n",
    "s_hits = df[(df['code'] == 'D') | (df['code'] == 'E')].groupby('pitcher_id').size().rename('hits')\n",
    "\n",
    "# innings pitched (ip) = (batters out)/3. \n",
    "atbats = raw_atbats.copy()\n",
    "atbats['prev_o']=atbats['o'].shift(1).fillna(0) # 'o' is the total out count of that inning after the at-bat event\n",
    "\n",
    "def get_n_out(o,prev_o):\n",
    "    '''\n",
    "    if a pitcher gets one more out, it should return 1. \n",
    "    if double play happens, it will return 2 (and 3 for triple play).\n",
    "    '''\n",
    "    if prev_o>o: \n",
    "        return o-0 # makes sure prev_o is reset to 0 at any change of inning\n",
    "    else:\n",
    "        return o-prev_o \n",
    "\n",
    "atbats['n_out']=atbats.apply(lambda row: get_n_out(row['o'], row['prev_o']), axis=1)\n",
    "s_ip = atbats.groupby('pitcher_id')['n_out'].sum()/3\n",
    "\n",
    "\n",
    "# create the dataframe players \n",
    "players = pd.concat([s_walks,s_hits,s_ip], axis=1, join='outer',keys=['walks','hits','ip']).fillna(0)\n",
    "# Drop those who failed to get any out (because their ip = 0 and will be meaningless to calculate their WHIP.)\n",
    "players = players[players['ip'] != 0] \n",
    "\n",
    "\n",
    "# WHIP = (walks+hits)/ip\n",
    "def get_whip(w,h,ip):\n",
    "    return (w+h)/ip\n",
    "\n",
    "players['whip']=players.apply(lambda row: get_whip(row['walks'],row['hits'],row['ip']), axis=1)\n",
    "print(players.head())\n"
   ]
  },
  {
   "cell_type": "markdown",
   "metadata": {},
   "source": [
    "### Average Fastball Speed \n",
    "In `df`, both `start_speed` and `end_speed` of a pitch are given. According to the source of the dataset, start speed is measured when the ball leaves a pitcher's hand, whereas end speed is the speed when the ball reaches the plate. End speed is expected to be affected by drag, for which the extent is unknown, and greater variablility may exist. Therefore in this study, whenever the speed of pitch is mentioned, only `start_speed` will be used."
   ]
  },
  {
   "cell_type": "code",
   "execution_count": 32,
   "metadata": {},
   "outputs": [
    {
     "data": {
      "text/html": [
       "<div>\n",
       "<style scoped>\n",
       "    .dataframe tbody tr th:only-of-type {\n",
       "        vertical-align: middle;\n",
       "    }\n",
       "\n",
       "    .dataframe tbody tr th {\n",
       "        vertical-align: top;\n",
       "    }\n",
       "\n",
       "    .dataframe thead th {\n",
       "        text-align: right;\n",
       "    }\n",
       "</style>\n",
       "<table border=\"1\" class=\"dataframe\">\n",
       "  <thead>\n",
       "    <tr style=\"text-align: right;\">\n",
       "      <th></th>\n",
       "      <th>walks</th>\n",
       "      <th>hits</th>\n",
       "      <th>ip</th>\n",
       "      <th>whip</th>\n",
       "      <th>avg_fastball_speed</th>\n",
       "    </tr>\n",
       "    <tr>\n",
       "      <th>pitcher_id</th>\n",
       "      <th></th>\n",
       "      <th></th>\n",
       "      <th></th>\n",
       "      <th></th>\n",
       "      <th></th>\n",
       "    </tr>\n",
       "  </thead>\n",
       "  <tbody>\n",
       "    <tr>\n",
       "      <th>282332</th>\n",
       "      <td>34.0</td>\n",
       "      <td>120.0</td>\n",
       "      <td>107.333333</td>\n",
       "      <td>1.434783</td>\n",
       "      <td>88.547390</td>\n",
       "    </tr>\n",
       "    <tr>\n",
       "      <th>407845</th>\n",
       "      <td>20.0</td>\n",
       "      <td>50.0</td>\n",
       "      <td>46.000000</td>\n",
       "      <td>1.521739</td>\n",
       "      <td>93.802245</td>\n",
       "    </tr>\n",
       "    <tr>\n",
       "      <th>424144</th>\n",
       "      <td>7.0</td>\n",
       "      <td>43.0</td>\n",
       "      <td>40.333333</td>\n",
       "      <td>1.239669</td>\n",
       "      <td>91.686103</td>\n",
       "    </tr>\n",
       "    <tr>\n",
       "      <th>425794</th>\n",
       "      <td>45.0</td>\n",
       "      <td>189.0</td>\n",
       "      <td>171.666667</td>\n",
       "      <td>1.363107</td>\n",
       "      <td>88.018625</td>\n",
       "    </tr>\n",
       "    <tr>\n",
       "      <th>425844</th>\n",
       "      <td>19.0</td>\n",
       "      <td>189.0</td>\n",
       "      <td>208.666667</td>\n",
       "      <td>0.996805</td>\n",
       "      <td>89.937648</td>\n",
       "    </tr>\n",
       "  </tbody>\n",
       "</table>\n",
       "</div>"
      ],
      "text/plain": [
       "            walks   hits          ip      whip  avg_fastball_speed\n",
       "pitcher_id                                                        \n",
       "282332       34.0  120.0  107.333333  1.434783           88.547390\n",
       "407845       20.0   50.0   46.000000  1.521739           93.802245\n",
       "424144        7.0   43.0   40.333333  1.239669           91.686103\n",
       "425794       45.0  189.0  171.666667  1.363107           88.018625\n",
       "425844       19.0  189.0  208.666667  0.996805           89.937648"
      ]
     },
     "execution_count": 32,
     "metadata": {},
     "output_type": "execute_result"
    }
   ],
   "source": [
    "# average fastball speed\n",
    "s_afs = df[df['pitch_group']=='fastball'].groupby('pitcher_id')['start_speed'].mean().rename('avg_fastball_speed')\n",
    "\n",
    "# prevent ValueError produced by running this cell multiple times\n",
    "try:\n",
    "    players = players.join(s_afs)\n",
    "except ValueError:\n",
    "    pass\n",
    "\n",
    "players.head()"
   ]
  },
  {
   "cell_type": "markdown",
   "metadata": {},
   "source": [
    "### K/9\n",
    "K/9 (strikeouts per nine innings) rate measures the strikeout aspect of a pitcher (details see 2. Correlation Between Average Fastball Speed and K/9). Both the total number of strikeouts and K/9 will be calculated for each pitcher. \n"
   ]
  },
  {
   "cell_type": "code",
   "execution_count": 33,
   "metadata": {},
   "outputs": [
    {
     "name": "stdout",
     "output_type": "stream",
     "text": [
      "Strikeout\n",
      "Strikeout Double Play\n"
     ]
    }
   ],
   "source": [
    "# find all the notations that are considered strikeout\n",
    "for i in atbats['event'].unique():\n",
    "    if 'strike' in i or 'Strike' in i:\n",
    "        print(i)"
   ]
  },
  {
   "cell_type": "code",
   "execution_count": 34,
   "metadata": {},
   "outputs": [
    {
     "data": {
      "text/html": [
       "<div>\n",
       "<style scoped>\n",
       "    .dataframe tbody tr th:only-of-type {\n",
       "        vertical-align: middle;\n",
       "    }\n",
       "\n",
       "    .dataframe tbody tr th {\n",
       "        vertical-align: top;\n",
       "    }\n",
       "\n",
       "    .dataframe thead th {\n",
       "        text-align: right;\n",
       "    }\n",
       "</style>\n",
       "<table border=\"1\" class=\"dataframe\">\n",
       "  <thead>\n",
       "    <tr style=\"text-align: right;\">\n",
       "      <th></th>\n",
       "      <th>walks</th>\n",
       "      <th>hits</th>\n",
       "      <th>ip</th>\n",
       "      <th>whip</th>\n",
       "      <th>avg_fastball_speed</th>\n",
       "      <th>total_k</th>\n",
       "      <th>k9</th>\n",
       "    </tr>\n",
       "    <tr>\n",
       "      <th>pitcher_id</th>\n",
       "      <th></th>\n",
       "      <th></th>\n",
       "      <th></th>\n",
       "      <th></th>\n",
       "      <th></th>\n",
       "      <th></th>\n",
       "      <th></th>\n",
       "    </tr>\n",
       "  </thead>\n",
       "  <tbody>\n",
       "    <tr>\n",
       "      <th>282332</th>\n",
       "      <td>34.0</td>\n",
       "      <td>120.0</td>\n",
       "      <td>107.333333</td>\n",
       "      <td>1.434783</td>\n",
       "      <td>88.547390</td>\n",
       "      <td>107.0</td>\n",
       "      <td>8.972050</td>\n",
       "    </tr>\n",
       "    <tr>\n",
       "      <th>407845</th>\n",
       "      <td>20.0</td>\n",
       "      <td>50.0</td>\n",
       "      <td>46.000000</td>\n",
       "      <td>1.521739</td>\n",
       "      <td>93.802245</td>\n",
       "      <td>48.0</td>\n",
       "      <td>9.391304</td>\n",
       "    </tr>\n",
       "    <tr>\n",
       "      <th>424144</th>\n",
       "      <td>7.0</td>\n",
       "      <td>43.0</td>\n",
       "      <td>40.333333</td>\n",
       "      <td>1.239669</td>\n",
       "      <td>91.686103</td>\n",
       "      <td>48.0</td>\n",
       "      <td>10.710744</td>\n",
       "    </tr>\n",
       "    <tr>\n",
       "      <th>425794</th>\n",
       "      <td>45.0</td>\n",
       "      <td>189.0</td>\n",
       "      <td>171.666667</td>\n",
       "      <td>1.363107</td>\n",
       "      <td>88.018625</td>\n",
       "      <td>153.0</td>\n",
       "      <td>8.021359</td>\n",
       "    </tr>\n",
       "    <tr>\n",
       "      <th>425844</th>\n",
       "      <td>19.0</td>\n",
       "      <td>189.0</td>\n",
       "      <td>208.666667</td>\n",
       "      <td>0.996805</td>\n",
       "      <td>89.937648</td>\n",
       "      <td>187.0</td>\n",
       "      <td>8.065495</td>\n",
       "    </tr>\n",
       "  </tbody>\n",
       "</table>\n",
       "</div>"
      ],
      "text/plain": [
       "            walks   hits          ip      whip  avg_fastball_speed  total_k  \\\n",
       "pitcher_id                                                                    \n",
       "282332       34.0  120.0  107.333333  1.434783           88.547390    107.0   \n",
       "407845       20.0   50.0   46.000000  1.521739           93.802245     48.0   \n",
       "424144        7.0   43.0   40.333333  1.239669           91.686103     48.0   \n",
       "425794       45.0  189.0  171.666667  1.363107           88.018625    153.0   \n",
       "425844       19.0  189.0  208.666667  0.996805           89.937648    187.0   \n",
       "\n",
       "                   k9  \n",
       "pitcher_id             \n",
       "282332       8.972050  \n",
       "407845       9.391304  \n",
       "424144      10.710744  \n",
       "425794       8.021359  \n",
       "425844       8.065495  "
      ]
     },
     "execution_count": 34,
     "metadata": {},
     "output_type": "execute_result"
    }
   ],
   "source": [
    "# total number of strikeouts \n",
    "s_k = (\n",
    "    atbats[(atbats['event']=='Strikeout') | (atbats['event']=='Strikeout Double Play')]\n",
    "    .groupby('pitcher_id')\n",
    "    .size()\n",
    "    .rename('total_k')\n",
    ")\n",
    "try:\n",
    "    players = players.join(s_k)\n",
    "except ValueError:\n",
    "    pass\n",
    "\n",
    "players['total_k'].fillna(0, inplace=True)\n",
    "\n",
    "# K/9\n",
    "players['k9'] = (players['total_k']/players['ip']) * 9\n",
    "players.head()"
   ]
  },
  {
   "cell_type": "markdown",
   "metadata": {},
   "source": [
    "### Game Played & Innings Pitched per Game\n",
    "Summarize the total number of game played in the season of each pitcher. Then, devide innings pitched by game played to get the data of innings pitched per game (ippg). "
   ]
  },
  {
   "cell_type": "code",
   "execution_count": 35,
   "metadata": {},
   "outputs": [
    {
     "data": {
      "text/html": [
       "<div>\n",
       "<style scoped>\n",
       "    .dataframe tbody tr th:only-of-type {\n",
       "        vertical-align: middle;\n",
       "    }\n",
       "\n",
       "    .dataframe tbody tr th {\n",
       "        vertical-align: top;\n",
       "    }\n",
       "\n",
       "    .dataframe thead th {\n",
       "        text-align: right;\n",
       "    }\n",
       "</style>\n",
       "<table border=\"1\" class=\"dataframe\">\n",
       "  <thead>\n",
       "    <tr style=\"text-align: right;\">\n",
       "      <th></th>\n",
       "      <th>walks</th>\n",
       "      <th>hits</th>\n",
       "      <th>ip</th>\n",
       "      <th>whip</th>\n",
       "      <th>avg_fastball_speed</th>\n",
       "      <th>total_k</th>\n",
       "      <th>k9</th>\n",
       "      <th>game_played</th>\n",
       "      <th>ippg</th>\n",
       "    </tr>\n",
       "    <tr>\n",
       "      <th>pitcher_id</th>\n",
       "      <th></th>\n",
       "      <th></th>\n",
       "      <th></th>\n",
       "      <th></th>\n",
       "      <th></th>\n",
       "      <th></th>\n",
       "      <th></th>\n",
       "      <th></th>\n",
       "      <th></th>\n",
       "    </tr>\n",
       "  </thead>\n",
       "  <tbody>\n",
       "    <tr>\n",
       "      <th>282332</th>\n",
       "      <td>34.0</td>\n",
       "      <td>120.0</td>\n",
       "      <td>107.333333</td>\n",
       "      <td>1.434783</td>\n",
       "      <td>88.547390</td>\n",
       "      <td>107.0</td>\n",
       "      <td>8.972050</td>\n",
       "      <td>23</td>\n",
       "      <td>4.666667</td>\n",
       "    </tr>\n",
       "    <tr>\n",
       "      <th>407845</th>\n",
       "      <td>20.0</td>\n",
       "      <td>50.0</td>\n",
       "      <td>46.000000</td>\n",
       "      <td>1.521739</td>\n",
       "      <td>93.802245</td>\n",
       "      <td>48.0</td>\n",
       "      <td>9.391304</td>\n",
       "      <td>53</td>\n",
       "      <td>0.867925</td>\n",
       "    </tr>\n",
       "    <tr>\n",
       "      <th>424144</th>\n",
       "      <td>7.0</td>\n",
       "      <td>43.0</td>\n",
       "      <td>40.333333</td>\n",
       "      <td>1.239669</td>\n",
       "      <td>91.686103</td>\n",
       "      <td>48.0</td>\n",
       "      <td>10.710744</td>\n",
       "      <td>66</td>\n",
       "      <td>0.611111</td>\n",
       "    </tr>\n",
       "    <tr>\n",
       "      <th>425794</th>\n",
       "      <td>45.0</td>\n",
       "      <td>189.0</td>\n",
       "      <td>171.666667</td>\n",
       "      <td>1.363107</td>\n",
       "      <td>88.018625</td>\n",
       "      <td>153.0</td>\n",
       "      <td>8.021359</td>\n",
       "      <td>31</td>\n",
       "      <td>5.537634</td>\n",
       "    </tr>\n",
       "    <tr>\n",
       "      <th>425844</th>\n",
       "      <td>19.0</td>\n",
       "      <td>189.0</td>\n",
       "      <td>208.666667</td>\n",
       "      <td>0.996805</td>\n",
       "      <td>89.937648</td>\n",
       "      <td>187.0</td>\n",
       "      <td>8.065495</td>\n",
       "      <td>33</td>\n",
       "      <td>6.323232</td>\n",
       "    </tr>\n",
       "  </tbody>\n",
       "</table>\n",
       "</div>"
      ],
      "text/plain": [
       "            walks   hits          ip      whip  avg_fastball_speed  total_k  \\\n",
       "pitcher_id                                                                    \n",
       "282332       34.0  120.0  107.333333  1.434783           88.547390    107.0   \n",
       "407845       20.0   50.0   46.000000  1.521739           93.802245     48.0   \n",
       "424144        7.0   43.0   40.333333  1.239669           91.686103     48.0   \n",
       "425794       45.0  189.0  171.666667  1.363107           88.018625    153.0   \n",
       "425844       19.0  189.0  208.666667  0.996805           89.937648    187.0   \n",
       "\n",
       "                   k9  game_played      ippg  \n",
       "pitcher_id                                    \n",
       "282332       8.972050           23  4.666667  \n",
       "407845       9.391304           53  0.867925  \n",
       "424144      10.710744           66  0.611111  \n",
       "425794       8.021359           31  5.537634  \n",
       "425844       8.065495           33  6.323232  "
      ]
     },
     "execution_count": 35,
     "metadata": {},
     "output_type": "execute_result"
    }
   ],
   "source": [
    "s_gp = atbats.groupby('pitcher_id')['g_id'].unique().apply(len).rename('game_played')\n",
    "try:\n",
    "    players = players.join(s_gp)\n",
    "except ValueError:\n",
    "    pass\n",
    "\n",
    "# innings pitched per game\n",
    "players['ippg'] = players['ip']/players['game_played']\n",
    "players.head()"
   ]
  },
  {
   "cell_type": "markdown",
   "metadata": {},
   "source": [
    "# 1. Correlation Between Average Fastball Speed and WHIP "
   ]
  },
  {
   "cell_type": "markdown",
   "metadata": {},
   "source": [
    "To measure a goodness of a pitcher, there are several useful metrics including ERA (earned run average), FIP (fielding independent pitching), WHIP (walks and hits per inning pitched), and more. This study will use WHIP as the main metric, due to the following reasons:\n",
    "1. The formula of WHIP is relatively simple (mlb.com). The formula is: \n",
    "\\begin{align}\n",
    "WHIP = \\frac{Walks + Hits}{innings\\;pitched}\n",
    "\\end{align}\n",
    "which means that a pitcher with a lower WHIP tends to be better, because he allows less walks and hits in the game.\n",
    "2. It targets one of the most fundamental goals of a pitcher: keeping runners off the basepaths (that is, minimize the walks and hits) (mlb.com). \n",
    "  \n",
    "Note that WHIP also has its shortcomings: \"hit batsmen, errors and hitters who reach via fielder's choice do not count against a pitcher's WHIP\" (mlb.com). Nevertheless, WHIP would still be a good and simple starting point to measure the performacne among pitchers. \n",
    "  \n",
    "Below is the plot of pitchers average fastball speed versus WHIP, with the correlation coefficient. \n",
    "Since nan values may exist in the column avg_fastball_speed (for those who did not throw any fastballs), we need to drop the rows before calculating the correlation coefficient."
   ]
  },
  {
   "cell_type": "code",
   "execution_count": 48,
   "metadata": {},
   "outputs": [
    {
     "name": "stdout",
     "output_type": "stream",
     "text": [
      "Intel MKL WARNING: Support of Intel(R) Streaming SIMD Extensions 4.2 (Intel(R) SSE4.2) enabled only processors has been deprecated. Intel oneAPI Math Kernel Library 2025.0 will require Intel(R) Advanced Vector Extensions (Intel(R) AVX) instructions.\n"
     ]
    },
    {
     "data": {
      "image/png": "[encoded data removed]",
      "text/plain": [
       "<Figure size 640x480 with 1 Axes>"
      ]
     },
     "metadata": {},
     "output_type": "display_data"
    }
   ],
   "source": [
    "# only keep the rows where a pitcher did throw at least one fastball in the season\n",
    "players_fb = players.dropna(subset=['avg_fastball_speed'])\n",
    "\n",
    "# calculate the correlation coefficient\n",
    "r_whip = np.corrcoef(players_fb['avg_fastball_speed'],players_fb['whip'])[0,1]\n",
    "\n",
    "players_fb.plot.scatter(x='avg_fastball_speed', y='whip', s=1, label=f'r = {r_whip:.3f}')\n",
    "plt.xlabel('average fastball speed (mph)')\n",
    "plt.ylabel('WHIP')\n",
    "plt.title('Correlation between average fastball speed and WHIP')\n",
    "plt.show()"
   ]
  },
  {
   "cell_type": "markdown",
   "metadata": {},
   "source": [
    "No clear linear relationship can be observed from the two variables. So why does fastball speed matter after all? "
   ]
  },
  {
   "cell_type": "markdown",
   "metadata": {},
   "source": [
    "# 2. Correlation Between Average Fastball Speed and K/9"
   ]
  },
  {
   "cell_type": "markdown",
   "metadata": {},
   "source": [
    "Recall that in WHIP, the numerator is (walks + hits), which means that how a batter got out (e.g. strikeout, fly-out, ground-out, etc.) is not taken into calculation. Among these conditions, strikeout is the only one that does not need to depend on other defensive factors - in other words, only in the event of a strikeout, ball is never in play and no fielding error will be made, and the out is 100% contributed by the pitcher's effort.  \n",
    "  \n",
    "K/9 (strikeouts per nine innings) rate measures how many strikeouts a pitcher averages for every nine innings pitched (mlb.com). The formula of K/9 is:\n",
    "\\begin{align}\n",
    "K/9 = \\frac{\\Sigma strikeouts}{innings}\\times9\n",
    "\\end{align}\n",
    "  \n",
    "Note that it is inappropriate to measure the goodness of a pitcher based on his K/9, since strikeout is not the only way to take out a batter.\n",
    "\n",
    "Does pitchers who have a faster average fastball speed tend to score higher in K/9? The plot below shows the correlation between avaerage fastball speed and K/9."
   ]
  },
  {
   "cell_type": "code",
   "execution_count": 38,
   "metadata": {},
   "outputs": [
    {
     "name": "stdout",
     "output_type": "stream",
     "text": [
      "Intel MKL WARNING: Support of Intel(R) Streaming SIMD Extensions 4.2 (Intel(R) SSE4.2) enabled only processors has been deprecated. Intel oneAPI Math Kernel Library 2025.0 will require Intel(R) Advanced Vector Extensions (Intel(R) AVX) instructions.\n"
     ]
    },
    {
     "data": {
      "image/png": "[encoded data removed]",
      "text/plain": [
       "<Figure size 640x480 with 1 Axes>"
      ]
     },
     "metadata": {},
     "output_type": "display_data"
    }
   ],
   "source": [
    "# calculate the correlation coefficient\n",
    "r_k9 = np.corrcoef(players_fb['avg_fastball_speed'],players_fb['k9'])[0,1]\n",
    "\n",
    "players_fb.plot.scatter(x='avg_fastball_speed', y='k9', s=1, label=f'r = {r_k9:.3f}')\n",
    "plt.xlabel('average fastball speed (mph)')\n",
    "plt.ylabel('K/9')\n",
    "plt.title('Correlation between average fastball speed and K/9')\n",
    "plt.show()"
   ]
  },
  {
   "cell_type": "markdown",
   "metadata": {},
   "source": [
    "The result shows a positive linear relationship between average fastball speed and K/9. While the strength is only moderate (r=0.414), it is still a lot better than what we got from WHIP (r=-0.077)."
   ]
  },
  {
   "cell_type": "markdown",
   "metadata": {},
   "source": [
    "# 3. Interpretting the Essentials of WHIP and K/9\n",
    "For pitchers who had a fireball fastball in their arsenal in the MLB season 2019, the two results above suggest that: \n",
    "1. This was likely to be irrelevant to their overall WHIP, or the sum of walks and hits they made per inning. \n",
    "2. They might tend to get a higher K/9, or strikeout rate. \n",
    "\n",
    "Although both WHIP and K/9 are some metrics used to measure a pitcher, their concepts are different. As mentioned above, WHIP measures how much walks plus hits a pitcher may make in average (per inning), while K/9 measures how much strikeout a pitcher may make in average (per nine innings). \n",
    "\n",
    "Here comes the tricky part: in an atbat, only one of a strikeout or a walk/hit can happen; however, in a series of atbats (in an inning, for example), more strikeout does not necessarily mean there is less walks/hits. This is because the inning only ends when the third out is made, and before that, an unlimited amount of walks/hits can happen. An example is that even if a pitcher has a perfect number in K/9 = 27 (every out made is strikeout), it does not mean there will be no hit or walk in the game and is still possible to be scored by the opposing team. \n",
    "\n",
    "At the end of the day, the way of winning a baseball game is to lose less points than the opposing team, and allowing less hits or walks will lower the chance of being scored. So the goal is to minimizing the walks/hits and getting the outs as fast as possible. Again, even strikeout is an efficient way of getting rid of batters (does not need to rely on other position players), it is not the only way. For fastball-based pitchers who may tend to make more outs through strikeout, they still need to prevent the batters they face from reaching base (walk or hit). "
   ]
  },
  {
   "cell_type": "markdown",
   "metadata": {},
   "source": [
    "# 4. The Roles for Hard-throwing Pitchers on a Team\n",
    "\n",
    "Theoretically, from a team manager's perspective, having hard-throwing pitchers on your roster can be a good thing. When a pitcher does not need to rely too much on defense, the team actually has greater freedom to sign sluggers, and it will still be acceptible when their defense is less optimal. The precondition of this would be the pitcher being able to pitch across multiple innings (e.g. starting pitchers or long relievers). This strategy may be more useful for those franchises with smaller markets and having difficulties to sign multiple all-star level players. The test of this, however, requires the salary cap data of each team and thus is out of the scope of this study.\n",
    "\n",
    "In contrast, it is common to see hard-throwing pitchers as closers (e.g. Aroldis Chapman). A closer is a pitcher who throws at the last inning (e.g. 9th inning) to ensure the victory of a game. One possible reason of hard-throwing pitchers being closers is that when a pitcher is designated to throw only one inning, he can maximize the intensity of throwing in this exact inning, without considering the potential fatigue induced by extended pitching cycle. \n",
    "\n",
    "Below is a plot that shows the spread of fastball speed of each inning. We would expect to see more fastballs with higher speed appear in the 9th inning, which is the typical last inning of a game. "
   ]
  },
  {
   "cell_type": "code",
   "execution_count": 50,
   "metadata": {},
   "outputs": [
    {
     "data": {
      "image/png": "[encoded data removed]",
      "text/plain": [
       "<Figure size 640x480 with 1 Axes>"
      ]
     },
     "metadata": {},
     "output_type": "display_data"
    }
   ],
   "source": [
    "df_fb = df[df['pitch_group']=='fastball']\n",
    "max_inning_n = df['inning'].max()\n",
    "# df_fb.head()\n",
    "\n",
    "df_fb.plot.scatter(x='start_speed',y='inning', s=0.1)\n",
    "plt.yticks(np.arange(0,max_inning_n+1,1))\n",
    "plt.xlabel('fastball speed (mph)')\n",
    "plt.ylabel('inning')\n",
    "plt.title('The spread of fastball speed recorded at each inning')\n",
    "plt.show()"
   ]
  },
  {
   "cell_type": "markdown",
   "metadata": {},
   "source": [
    "Those fastest fastballs did appear in the 9th inning. Other relatively fast fastballs were also recorded close to the end of a game (inning 8, 9 or 10). Although this is more of an observation instead of a statistical test, it did align with our assumption."
   ]
  },
  {
   "cell_type": "markdown",
   "metadata": {},
   "source": [
    "# 5. Conclusion\n",
    "In this study, we discussed why the speed of a fastball, or the average fastball speed of a pitcher matters. "
   ]
  },
  {
   "cell_type": "markdown",
   "metadata": {},
   "source": [
    "# 6. The Next Step \n",
    "One of the weaknesses of this study is that the original dataset does not include information about spin rate of a pitch (all valeus are 'placeholder'). This makes the attempt to classifying pitchers into two groups of whether he is a fastball-based pitcher or not being difficult, as spin rate is another crucial part of a high-quality fastball. If spin rate is available, a possible approach of classifying pitchers into the two groups would be: \n",
    "1. Similar to the dataframe `players` in this study, summerize the following data of each pitcher and store it into the dataframe. \n",
    "    - average fastball speed \n",
    "    - average fastball spin rate \n",
    "    - ration of fastball used over all pitches (including offspeed and breaking balls)\n",
    "    - the batters performance against fastball \n",
    "    - (etc.) *may need to use techniques of feature importance, feature selection, feature engineering, and domain-specific knowledge in order to create a plausible model\n",
    "2. Use unsupervised machine learning methods to cluster them into two groups. (for example, if using K-Means algorithm, set `n_clusters = 2`). Note that if using a distance-based model like K-Means, the data should be scaled (for example, z-score) to ensure the validity of measurement. Select an ideal model, and then train and evaluate the model. \n",
    "3. With the result, investigate the top performers (e.g. low WHIP score with innings-pitched over a certain threshold) in each group. Identify the strengths and weaknessess of each type of pitchers.  \n",
    "\n",
    "While the scheme is preliminary and would require trials and errors to refine, the expected results would provide some insights for coaches, trainers and pitchers such that they can tailor the pitching strategy to an individual by referring to this data-driven big picture. "
   ]
  }
 ],
 "metadata": {
  "kernelspec": {
   "display_name": "cpsc330",
   "language": "python",
   "name": "python3"
  },
  "language_info": {
   "codemirror_mode": {
    "name": "ipython",
    "version": 3
   },
   "file_extension": ".py",
   "mimetype": "text/x-python",
   "name": "python",
   "nbconvert_exporter": "python",
   "pygments_lexer": "ipython3",
   "version": "3.10.0"
  }
 },
 "nbformat": 4,
 "nbformat_minor": 5
}
